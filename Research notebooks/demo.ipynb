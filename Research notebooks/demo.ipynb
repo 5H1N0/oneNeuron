{
 "cells": [
  {
   "cell_type": "code",
   "execution_count": 1,
   "source": [
    "import numpy as np"
   ],
   "outputs": [],
   "metadata": {}
  },
  {
   "cell_type": "code",
   "execution_count": null,
   "source": [
    "from utils.model import Perceptron\r\n",
    "from utils.all_utils import prepare_data, save_model, save_plot\r\n",
    "import pandas as pd\r\n",
    "import numpy as np\r\n",
    "\r\n",
    "def main(data, eta, epochs, filename, plotfilename):\r\n",
    "    \r\n",
    "\r\n",
    "    df = pd.DataFrame(data)\r\n",
    "\r\n",
    "    print(df)\r\n",
    "\r\n",
    "    X,y = prepare_data(df)\r\n",
    "\r\n",
    "    \r\n",
    "\r\n",
    "    model = Perceptron(eta, epochs)\r\n",
    "    model.fit(X, y)\r\n",
    "\r\n",
    "    _ = model.total_loss()\r\n",
    "\r\n",
    "    save_model(model,filename= filename)\r\n",
    "    save_plot(df, plotfilename, model)\r\n",
    "\r\n",
    "\r\n",
    "\r\n",
    "OR = {\r\n",
    "    \"x1\": [0,0,1,1],\r\n",
    "    \"x2\": [0,1,0,1],\r\n",
    "    \"y\": [0,1,1,1],\r\n",
    "}\r\n",
    "\r\n",
    "ETA = 0.3 # 0 and 1\r\n",
    "EPOCHS = 10\r\n",
    "\r\n",
    "main(data = OR, eta = ETA , epochs =EPOCHS, filename = \"or.model\", plotfilename = \"or.png\" )"
   ],
   "outputs": [],
   "metadata": {}
  }
 ],
 "metadata": {
  "kernelspec": {
   "name": "python3",
   "display_name": "Python 3.7.11 64-bit ('oneNeuron': conda)"
  },
  "language_info": {
   "codemirror_mode": {
    "name": "ipython",
    "version": 3
   },
   "file_extension": ".py",
   "mimetype": "text/x-python",
   "name": "python",
   "nbconvert_exporter": "python",
   "pygments_lexer": "ipython3",
   "version": "3.7.11"
  },
  "interpreter": {
   "hash": "c108404f1486657e8ab7acba0a4587f4a8fe003f0606068796f84a9887212933"
  }
 },
 "nbformat": 4,
 "nbformat_minor": 5
}